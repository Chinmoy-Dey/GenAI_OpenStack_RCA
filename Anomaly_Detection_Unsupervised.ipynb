{
  "nbformat": 4,
  "nbformat_minor": 0,
  "metadata": {
    "colab": {
      "provenance": []
    },
    "kernelspec": {
      "name": "python3",
      "display_name": "Python 3"
    },
    "language_info": {
      "name": "python"
    }
  },
  "cells": [
    {
      "cell_type": "code",
      "execution_count": null,
      "metadata": {
        "colab": {
          "base_uri": "https://localhost:8080/"
        },
        "id": "B833s5bXuQNp",
        "outputId": "c2cb9c26-2c76-41e9-fdee-dd94d8b83d13"
      },
      "outputs": [
        {
          "output_type": "stream",
          "name": "stdout",
          "text": [
            "Collecting pyod\n",
            "  Downloading pyod-2.0.2.tar.gz (165 kB)\n",
            "\u001b[?25l     \u001b[90m━━━━━━━━━━━━━━━━━━━━━━━━━━━━━━━━━━━━━━━━\u001b[0m \u001b[32m0.0/165.8 kB\u001b[0m \u001b[31m?\u001b[0m eta \u001b[36m-:--:--\u001b[0m\r\u001b[2K     \u001b[90m━━━━━━━━━━━━━━━━━━━━━━━━━━━━━━━━━━━━━━━━\u001b[0m \u001b[32m165.8/165.8 kB\u001b[0m \u001b[31m4.6 MB/s\u001b[0m eta \u001b[36m0:00:00\u001b[0m\n",
            "\u001b[?25h  Preparing metadata (setup.py) ... \u001b[?25l\u001b[?25hdone\n",
            "Requirement already satisfied: joblib in /usr/local/lib/python3.10/dist-packages (from pyod) (1.4.2)\n",
            "Requirement already satisfied: matplotlib in /usr/local/lib/python3.10/dist-packages (from pyod) (3.8.0)\n",
            "Requirement already satisfied: numpy>=1.19 in /usr/local/lib/python3.10/dist-packages (from pyod) (1.26.4)\n",
            "Requirement already satisfied: numba>=0.51 in /usr/local/lib/python3.10/dist-packages (from pyod) (0.60.0)\n",
            "Requirement already satisfied: scipy>=1.5.1 in /usr/local/lib/python3.10/dist-packages (from pyod) (1.13.1)\n",
            "Requirement already satisfied: scikit-learn>=0.22.0 in /usr/local/lib/python3.10/dist-packages (from pyod) (1.5.2)\n",
            "Requirement already satisfied: llvmlite<0.44,>=0.43.0dev0 in /usr/local/lib/python3.10/dist-packages (from numba>=0.51->pyod) (0.43.0)\n",
            "Requirement already satisfied: threadpoolctl>=3.1.0 in /usr/local/lib/python3.10/dist-packages (from scikit-learn>=0.22.0->pyod) (3.5.0)\n",
            "Requirement already satisfied: contourpy>=1.0.1 in /usr/local/lib/python3.10/dist-packages (from matplotlib->pyod) (1.3.1)\n",
            "Requirement already satisfied: cycler>=0.10 in /usr/local/lib/python3.10/dist-packages (from matplotlib->pyod) (0.12.1)\n",
            "Requirement already satisfied: fonttools>=4.22.0 in /usr/local/lib/python3.10/dist-packages (from matplotlib->pyod) (4.55.2)\n",
            "Requirement already satisfied: kiwisolver>=1.0.1 in /usr/local/lib/python3.10/dist-packages (from matplotlib->pyod) (1.4.7)\n",
            "Requirement already satisfied: packaging>=20.0 in /usr/local/lib/python3.10/dist-packages (from matplotlib->pyod) (24.2)\n",
            "Requirement already satisfied: pillow>=6.2.0 in /usr/local/lib/python3.10/dist-packages (from matplotlib->pyod) (11.0.0)\n",
            "Requirement already satisfied: pyparsing>=2.3.1 in /usr/local/lib/python3.10/dist-packages (from matplotlib->pyod) (3.2.0)\n",
            "Requirement already satisfied: python-dateutil>=2.7 in /usr/local/lib/python3.10/dist-packages (from matplotlib->pyod) (2.8.2)\n",
            "Requirement already satisfied: six>=1.5 in /usr/local/lib/python3.10/dist-packages (from python-dateutil>=2.7->matplotlib->pyod) (1.17.0)\n",
            "Building wheels for collected packages: pyod\n",
            "  Building wheel for pyod (setup.py) ... \u001b[?25l\u001b[?25hdone\n",
            "  Created wheel for pyod: filename=pyod-2.0.2-py3-none-any.whl size=198469 sha256=1ce0498bc28e4239e0fcc2c8565979f713f1f06cb6e6dafd83531ef06d30a1ad\n",
            "  Stored in directory: /root/.cache/pip/wheels/77/c2/20/34d1f15b41b701ba69f42a32304825810d680754d509f91391\n",
            "Successfully built pyod\n",
            "Installing collected packages: pyod\n",
            "Successfully installed pyod-2.0.2\n"
          ]
        }
      ],
      "source": [
        "!pip install pyod"
      ]
    },
    {
      "cell_type": "code",
      "source": [
        "import pandas as pd\n",
        "import numpy as np\n",
        "import matplotlib.pyplot as plt\n",
        "import seaborn as sns\n",
        "%matplotlib inline\n",
        "\n",
        "# Using PyOD\n",
        "from pyod.utils.data import generate_data, get_outliers_inliers\n",
        "from pyod.models.pca import PCA\n",
        "from pyod.utils.data import evaluate_print\n",
        "from pyod.utils.example import visualize"
      ],
      "metadata": {
        "id": "0QhJtGF6vZj6"
      },
      "execution_count": null,
      "outputs": []
    },
    {
      "cell_type": "code",
      "source": [
        "df = pd.read_csv('/content/OpenStack_2k.log_structured.csv')"
      ],
      "metadata": {
        "id": "nqq_IRqcv2ym"
      },
      "execution_count": null,
      "outputs": []
    },
    {
      "cell_type": "code",
      "source": [
        "df.head()"
      ],
      "metadata": {
        "colab": {
          "base_uri": "https://localhost:8080/",
          "height": 564
        },
        "id": "4mRKXcFjv7Nx",
        "outputId": "d146e9ef-7c7b-48a2-8791-d205f25be931"
      },
      "execution_count": null,
      "outputs": [
        {
          "output_type": "execute_result",
          "data": {
            "text/plain": [
              "   LineId                           Logrecord        Date          Time  \\\n",
              "0       1  nova-api.log.1.2017-05-16_13:53:08  2017-05-16  00:00:00.008   \n",
              "1       2  nova-api.log.1.2017-05-16_13:53:08  2017-05-16  00:00:00.272   \n",
              "2       3  nova-api.log.1.2017-05-16_13:53:08  2017-05-16  00:00:01.551   \n",
              "3       4  nova-api.log.1.2017-05-16_13:53:08  2017-05-16  00:00:01.813   \n",
              "4       5  nova-api.log.1.2017-05-16_13:53:08  2017-05-16  00:00:03.091   \n",
              "\n",
              "     Pid Level                       Component  \\\n",
              "0  25746  INFO  nova.osapi_compute.wsgi.server   \n",
              "1  25746  INFO  nova.osapi_compute.wsgi.server   \n",
              "2  25746  INFO  nova.osapi_compute.wsgi.server   \n",
              "3  25746  INFO  nova.osapi_compute.wsgi.server   \n",
              "4  25746  INFO  nova.osapi_compute.wsgi.server   \n",
              "\n",
              "                                                ADDR  \\\n",
              "0  req-38101a0b-2096-447d-96ea-a692162415ae 113d3...   \n",
              "1  req-9bc36dd9-91c5-4314-898a-47625eb93b09 113d3...   \n",
              "2  req-55db2d8d-cdb7-4b4b-993b-429be84c0c3e 113d3...   \n",
              "3  req-2a3dc421-6604-42a7-9390-a18dc824d5d6 113d3...   \n",
              "4  req-939eb332-c1c1-4e67-99b8-8695f8f1980a 113d3...   \n",
              "\n",
              "                                             Content EventId  \\\n",
              "0  10.11.10.1 \"GET /v2/54fadb412c4e40cdbaed9335e4...     E25   \n",
              "1  10.11.10.1 \"GET /v2/54fadb412c4e40cdbaed9335e4...     E25   \n",
              "2  10.11.10.1 \"GET /v2/54fadb412c4e40cdbaed9335e4...     E25   \n",
              "3  10.11.10.1 \"GET /v2/54fadb412c4e40cdbaed9335e4...     E25   \n",
              "4  10.11.10.1 \"GET /v2/54fadb412c4e40cdbaed9335e4...     E25   \n",
              "\n",
              "                                      EventTemplate  \n",
              "0  <*> \"GET <*>\" status: <*> len: <*> time: <*>.<*>  \n",
              "1  <*> \"GET <*>\" status: <*> len: <*> time: <*>.<*>  \n",
              "2  <*> \"GET <*>\" status: <*> len: <*> time: <*>.<*>  \n",
              "3  <*> \"GET <*>\" status: <*> len: <*> time: <*>.<*>  \n",
              "4  <*> \"GET <*>\" status: <*> len: <*> time: <*>.<*>  "
            ],
            "text/html": [
              "\n",
              "  <div id=\"df-45c0b872-9593-4cae-8376-20952011bed3\" class=\"colab-df-container\">\n",
              "    <div>\n",
              "<style scoped>\n",
              "    .dataframe tbody tr th:only-of-type {\n",
              "        vertical-align: middle;\n",
              "    }\n",
              "\n",
              "    .dataframe tbody tr th {\n",
              "        vertical-align: top;\n",
              "    }\n",
              "\n",
              "    .dataframe thead th {\n",
              "        text-align: right;\n",
              "    }\n",
              "</style>\n",
              "<table border=\"1\" class=\"dataframe\">\n",
              "  <thead>\n",
              "    <tr style=\"text-align: right;\">\n",
              "      <th></th>\n",
              "      <th>LineId</th>\n",
              "      <th>Logrecord</th>\n",
              "      <th>Date</th>\n",
              "      <th>Time</th>\n",
              "      <th>Pid</th>\n",
              "      <th>Level</th>\n",
              "      <th>Component</th>\n",
              "      <th>ADDR</th>\n",
              "      <th>Content</th>\n",
              "      <th>EventId</th>\n",
              "      <th>EventTemplate</th>\n",
              "    </tr>\n",
              "  </thead>\n",
              "  <tbody>\n",
              "    <tr>\n",
              "      <th>0</th>\n",
              "      <td>1</td>\n",
              "      <td>nova-api.log.1.2017-05-16_13:53:08</td>\n",
              "      <td>2017-05-16</td>\n",
              "      <td>00:00:00.008</td>\n",
              "      <td>25746</td>\n",
              "      <td>INFO</td>\n",
              "      <td>nova.osapi_compute.wsgi.server</td>\n",
              "      <td>req-38101a0b-2096-447d-96ea-a692162415ae 113d3...</td>\n",
              "      <td>10.11.10.1 \"GET /v2/54fadb412c4e40cdbaed9335e4...</td>\n",
              "      <td>E25</td>\n",
              "      <td>&lt;*&gt; \"GET &lt;*&gt;\" status: &lt;*&gt; len: &lt;*&gt; time: &lt;*&gt;.&lt;*&gt;</td>\n",
              "    </tr>\n",
              "    <tr>\n",
              "      <th>1</th>\n",
              "      <td>2</td>\n",
              "      <td>nova-api.log.1.2017-05-16_13:53:08</td>\n",
              "      <td>2017-05-16</td>\n",
              "      <td>00:00:00.272</td>\n",
              "      <td>25746</td>\n",
              "      <td>INFO</td>\n",
              "      <td>nova.osapi_compute.wsgi.server</td>\n",
              "      <td>req-9bc36dd9-91c5-4314-898a-47625eb93b09 113d3...</td>\n",
              "      <td>10.11.10.1 \"GET /v2/54fadb412c4e40cdbaed9335e4...</td>\n",
              "      <td>E25</td>\n",
              "      <td>&lt;*&gt; \"GET &lt;*&gt;\" status: &lt;*&gt; len: &lt;*&gt; time: &lt;*&gt;.&lt;*&gt;</td>\n",
              "    </tr>\n",
              "    <tr>\n",
              "      <th>2</th>\n",
              "      <td>3</td>\n",
              "      <td>nova-api.log.1.2017-05-16_13:53:08</td>\n",
              "      <td>2017-05-16</td>\n",
              "      <td>00:00:01.551</td>\n",
              "      <td>25746</td>\n",
              "      <td>INFO</td>\n",
              "      <td>nova.osapi_compute.wsgi.server</td>\n",
              "      <td>req-55db2d8d-cdb7-4b4b-993b-429be84c0c3e 113d3...</td>\n",
              "      <td>10.11.10.1 \"GET /v2/54fadb412c4e40cdbaed9335e4...</td>\n",
              "      <td>E25</td>\n",
              "      <td>&lt;*&gt; \"GET &lt;*&gt;\" status: &lt;*&gt; len: &lt;*&gt; time: &lt;*&gt;.&lt;*&gt;</td>\n",
              "    </tr>\n",
              "    <tr>\n",
              "      <th>3</th>\n",
              "      <td>4</td>\n",
              "      <td>nova-api.log.1.2017-05-16_13:53:08</td>\n",
              "      <td>2017-05-16</td>\n",
              "      <td>00:00:01.813</td>\n",
              "      <td>25746</td>\n",
              "      <td>INFO</td>\n",
              "      <td>nova.osapi_compute.wsgi.server</td>\n",
              "      <td>req-2a3dc421-6604-42a7-9390-a18dc824d5d6 113d3...</td>\n",
              "      <td>10.11.10.1 \"GET /v2/54fadb412c4e40cdbaed9335e4...</td>\n",
              "      <td>E25</td>\n",
              "      <td>&lt;*&gt; \"GET &lt;*&gt;\" status: &lt;*&gt; len: &lt;*&gt; time: &lt;*&gt;.&lt;*&gt;</td>\n",
              "    </tr>\n",
              "    <tr>\n",
              "      <th>4</th>\n",
              "      <td>5</td>\n",
              "      <td>nova-api.log.1.2017-05-16_13:53:08</td>\n",
              "      <td>2017-05-16</td>\n",
              "      <td>00:00:03.091</td>\n",
              "      <td>25746</td>\n",
              "      <td>INFO</td>\n",
              "      <td>nova.osapi_compute.wsgi.server</td>\n",
              "      <td>req-939eb332-c1c1-4e67-99b8-8695f8f1980a 113d3...</td>\n",
              "      <td>10.11.10.1 \"GET /v2/54fadb412c4e40cdbaed9335e4...</td>\n",
              "      <td>E25</td>\n",
              "      <td>&lt;*&gt; \"GET &lt;*&gt;\" status: &lt;*&gt; len: &lt;*&gt; time: &lt;*&gt;.&lt;*&gt;</td>\n",
              "    </tr>\n",
              "  </tbody>\n",
              "</table>\n",
              "</div>\n",
              "    <div class=\"colab-df-buttons\">\n",
              "\n",
              "  <div class=\"colab-df-container\">\n",
              "    <button class=\"colab-df-convert\" onclick=\"convertToInteractive('df-45c0b872-9593-4cae-8376-20952011bed3')\"\n",
              "            title=\"Convert this dataframe to an interactive table.\"\n",
              "            style=\"display:none;\">\n",
              "\n",
              "  <svg xmlns=\"http://www.w3.org/2000/svg\" height=\"24px\" viewBox=\"0 -960 960 960\">\n",
              "    <path d=\"M120-120v-720h720v720H120Zm60-500h600v-160H180v160Zm220 220h160v-160H400v160Zm0 220h160v-160H400v160ZM180-400h160v-160H180v160Zm440 0h160v-160H620v160ZM180-180h160v-160H180v160Zm440 0h160v-160H620v160Z\"/>\n",
              "  </svg>\n",
              "    </button>\n",
              "\n",
              "  <style>\n",
              "    .colab-df-container {\n",
              "      display:flex;\n",
              "      gap: 12px;\n",
              "    }\n",
              "\n",
              "    .colab-df-convert {\n",
              "      background-color: #E8F0FE;\n",
              "      border: none;\n",
              "      border-radius: 50%;\n",
              "      cursor: pointer;\n",
              "      display: none;\n",
              "      fill: #1967D2;\n",
              "      height: 32px;\n",
              "      padding: 0 0 0 0;\n",
              "      width: 32px;\n",
              "    }\n",
              "\n",
              "    .colab-df-convert:hover {\n",
              "      background-color: #E2EBFA;\n",
              "      box-shadow: 0px 1px 2px rgba(60, 64, 67, 0.3), 0px 1px 3px 1px rgba(60, 64, 67, 0.15);\n",
              "      fill: #174EA6;\n",
              "    }\n",
              "\n",
              "    .colab-df-buttons div {\n",
              "      margin-bottom: 4px;\n",
              "    }\n",
              "\n",
              "    [theme=dark] .colab-df-convert {\n",
              "      background-color: #3B4455;\n",
              "      fill: #D2E3FC;\n",
              "    }\n",
              "\n",
              "    [theme=dark] .colab-df-convert:hover {\n",
              "      background-color: #434B5C;\n",
              "      box-shadow: 0px 1px 3px 1px rgba(0, 0, 0, 0.15);\n",
              "      filter: drop-shadow(0px 1px 2px rgba(0, 0, 0, 0.3));\n",
              "      fill: #FFFFFF;\n",
              "    }\n",
              "  </style>\n",
              "\n",
              "    <script>\n",
              "      const buttonEl =\n",
              "        document.querySelector('#df-45c0b872-9593-4cae-8376-20952011bed3 button.colab-df-convert');\n",
              "      buttonEl.style.display =\n",
              "        google.colab.kernel.accessAllowed ? 'block' : 'none';\n",
              "\n",
              "      async function convertToInteractive(key) {\n",
              "        const element = document.querySelector('#df-45c0b872-9593-4cae-8376-20952011bed3');\n",
              "        const dataTable =\n",
              "          await google.colab.kernel.invokeFunction('convertToInteractive',\n",
              "                                                    [key], {});\n",
              "        if (!dataTable) return;\n",
              "\n",
              "        const docLinkHtml = 'Like what you see? Visit the ' +\n",
              "          '<a target=\"_blank\" href=https://colab.research.google.com/notebooks/data_table.ipynb>data table notebook</a>'\n",
              "          + ' to learn more about interactive tables.';\n",
              "        element.innerHTML = '';\n",
              "        dataTable['output_type'] = 'display_data';\n",
              "        await google.colab.output.renderOutput(dataTable, element);\n",
              "        const docLink = document.createElement('div');\n",
              "        docLink.innerHTML = docLinkHtml;\n",
              "        element.appendChild(docLink);\n",
              "      }\n",
              "    </script>\n",
              "  </div>\n",
              "\n",
              "\n",
              "<div id=\"df-14192262-b065-4eb3-a56c-8c680b861e56\">\n",
              "  <button class=\"colab-df-quickchart\" onclick=\"quickchart('df-14192262-b065-4eb3-a56c-8c680b861e56')\"\n",
              "            title=\"Suggest charts\"\n",
              "            style=\"display:none;\">\n",
              "\n",
              "<svg xmlns=\"http://www.w3.org/2000/svg\" height=\"24px\"viewBox=\"0 0 24 24\"\n",
              "     width=\"24px\">\n",
              "    <g>\n",
              "        <path d=\"M19 3H5c-1.1 0-2 .9-2 2v14c0 1.1.9 2 2 2h14c1.1 0 2-.9 2-2V5c0-1.1-.9-2-2-2zM9 17H7v-7h2v7zm4 0h-2V7h2v10zm4 0h-2v-4h2v4z\"/>\n",
              "    </g>\n",
              "</svg>\n",
              "  </button>\n",
              "\n",
              "<style>\n",
              "  .colab-df-quickchart {\n",
              "      --bg-color: #E8F0FE;\n",
              "      --fill-color: #1967D2;\n",
              "      --hover-bg-color: #E2EBFA;\n",
              "      --hover-fill-color: #174EA6;\n",
              "      --disabled-fill-color: #AAA;\n",
              "      --disabled-bg-color: #DDD;\n",
              "  }\n",
              "\n",
              "  [theme=dark] .colab-df-quickchart {\n",
              "      --bg-color: #3B4455;\n",
              "      --fill-color: #D2E3FC;\n",
              "      --hover-bg-color: #434B5C;\n",
              "      --hover-fill-color: #FFFFFF;\n",
              "      --disabled-bg-color: #3B4455;\n",
              "      --disabled-fill-color: #666;\n",
              "  }\n",
              "\n",
              "  .colab-df-quickchart {\n",
              "    background-color: var(--bg-color);\n",
              "    border: none;\n",
              "    border-radius: 50%;\n",
              "    cursor: pointer;\n",
              "    display: none;\n",
              "    fill: var(--fill-color);\n",
              "    height: 32px;\n",
              "    padding: 0;\n",
              "    width: 32px;\n",
              "  }\n",
              "\n",
              "  .colab-df-quickchart:hover {\n",
              "    background-color: var(--hover-bg-color);\n",
              "    box-shadow: 0 1px 2px rgba(60, 64, 67, 0.3), 0 1px 3px 1px rgba(60, 64, 67, 0.15);\n",
              "    fill: var(--button-hover-fill-color);\n",
              "  }\n",
              "\n",
              "  .colab-df-quickchart-complete:disabled,\n",
              "  .colab-df-quickchart-complete:disabled:hover {\n",
              "    background-color: var(--disabled-bg-color);\n",
              "    fill: var(--disabled-fill-color);\n",
              "    box-shadow: none;\n",
              "  }\n",
              "\n",
              "  .colab-df-spinner {\n",
              "    border: 2px solid var(--fill-color);\n",
              "    border-color: transparent;\n",
              "    border-bottom-color: var(--fill-color);\n",
              "    animation:\n",
              "      spin 1s steps(1) infinite;\n",
              "  }\n",
              "\n",
              "  @keyframes spin {\n",
              "    0% {\n",
              "      border-color: transparent;\n",
              "      border-bottom-color: var(--fill-color);\n",
              "      border-left-color: var(--fill-color);\n",
              "    }\n",
              "    20% {\n",
              "      border-color: transparent;\n",
              "      border-left-color: var(--fill-color);\n",
              "      border-top-color: var(--fill-color);\n",
              "    }\n",
              "    30% {\n",
              "      border-color: transparent;\n",
              "      border-left-color: var(--fill-color);\n",
              "      border-top-color: var(--fill-color);\n",
              "      border-right-color: var(--fill-color);\n",
              "    }\n",
              "    40% {\n",
              "      border-color: transparent;\n",
              "      border-right-color: var(--fill-color);\n",
              "      border-top-color: var(--fill-color);\n",
              "    }\n",
              "    60% {\n",
              "      border-color: transparent;\n",
              "      border-right-color: var(--fill-color);\n",
              "    }\n",
              "    80% {\n",
              "      border-color: transparent;\n",
              "      border-right-color: var(--fill-color);\n",
              "      border-bottom-color: var(--fill-color);\n",
              "    }\n",
              "    90% {\n",
              "      border-color: transparent;\n",
              "      border-bottom-color: var(--fill-color);\n",
              "    }\n",
              "  }\n",
              "</style>\n",
              "\n",
              "  <script>\n",
              "    async function quickchart(key) {\n",
              "      const quickchartButtonEl =\n",
              "        document.querySelector('#' + key + ' button');\n",
              "      quickchartButtonEl.disabled = true;  // To prevent multiple clicks.\n",
              "      quickchartButtonEl.classList.add('colab-df-spinner');\n",
              "      try {\n",
              "        const charts = await google.colab.kernel.invokeFunction(\n",
              "            'suggestCharts', [key], {});\n",
              "      } catch (error) {\n",
              "        console.error('Error during call to suggestCharts:', error);\n",
              "      }\n",
              "      quickchartButtonEl.classList.remove('colab-df-spinner');\n",
              "      quickchartButtonEl.classList.add('colab-df-quickchart-complete');\n",
              "    }\n",
              "    (() => {\n",
              "      let quickchartButtonEl =\n",
              "        document.querySelector('#df-14192262-b065-4eb3-a56c-8c680b861e56 button');\n",
              "      quickchartButtonEl.style.display =\n",
              "        google.colab.kernel.accessAllowed ? 'block' : 'none';\n",
              "    })();\n",
              "  </script>\n",
              "</div>\n",
              "\n",
              "    </div>\n",
              "  </div>\n"
            ],
            "application/vnd.google.colaboratory.intrinsic+json": {
              "type": "dataframe",
              "variable_name": "df",
              "summary": "{\n  \"name\": \"df\",\n  \"rows\": 2000,\n  \"fields\": [\n    {\n      \"column\": \"LineId\",\n      \"properties\": {\n        \"dtype\": \"number\",\n        \"std\": 577,\n        \"min\": 1,\n        \"max\": 2000,\n        \"num_unique_values\": 2000,\n        \"samples\": [\n          1861,\n          354,\n          1334\n        ],\n        \"semantic_type\": \"\",\n        \"description\": \"\"\n      }\n    },\n    {\n      \"column\": \"Logrecord\",\n      \"properties\": {\n        \"dtype\": \"category\",\n        \"num_unique_values\": 3,\n        \"samples\": [\n          \"nova-api.log.1.2017-05-16_13:53:08\",\n          \"nova-compute.log.1.2017-05-16_13:55:31\",\n          \"nova-scheduler.log.1.2017-05-16_13:53:08\"\n        ],\n        \"semantic_type\": \"\",\n        \"description\": \"\"\n      }\n    },\n    {\n      \"column\": \"Date\",\n      \"properties\": {\n        \"dtype\": \"object\",\n        \"num_unique_values\": 1,\n        \"samples\": [\n          \"2017-05-16\"\n        ],\n        \"semantic_type\": \"\",\n        \"description\": \"\"\n      }\n    },\n    {\n      \"column\": \"Time\",\n      \"properties\": {\n        \"dtype\": \"object\",\n        \"num_unique_values\": 1933,\n        \"samples\": [\n          \"00:08:22.485\"\n        ],\n        \"semantic_type\": \"\",\n        \"description\": \"\"\n      }\n    },\n    {\n      \"column\": \"Pid\",\n      \"properties\": {\n        \"dtype\": \"number\",\n        \"std\": 11389,\n        \"min\": 2931,\n        \"max\": 25998,\n        \"num_unique_values\": 22,\n        \"samples\": [\n          25746\n        ],\n        \"semantic_type\": \"\",\n        \"description\": \"\"\n      }\n    },\n    {\n      \"column\": \"Level\",\n      \"properties\": {\n        \"dtype\": \"category\",\n        \"num_unique_values\": 2,\n        \"samples\": [\n          \"WARNING\"\n        ],\n        \"semantic_type\": \"\",\n        \"description\": \"\"\n      }\n    },\n    {\n      \"column\": \"Component\",\n      \"properties\": {\n        \"dtype\": \"category\",\n        \"num_unique_values\": 10,\n        \"samples\": [\n          \"nova.compute.claims\"\n        ],\n        \"semantic_type\": \"\",\n        \"description\": \"\"\n      }\n    },\n    {\n      \"column\": \"ADDR\",\n      \"properties\": {\n        \"dtype\": \"category\",\n        \"num_unique_values\": 939,\n        \"samples\": [\n          \"req-68e17e36-b9b8-4b5d-9096-6bd81ce33bbc 113d3a99c3da401fbd62cc2caa5b96d2 54fadb412c4e40cdbaed9335e4c35a9e - - -\"\n        ],\n        \"semantic_type\": \"\",\n        \"description\": \"\"\n      }\n    },\n    {\n      \"column\": \"Content\",\n      \"properties\": {\n        \"dtype\": \"string\",\n        \"num_unique_values\": 1548,\n        \"samples\": [\n          \"Final resource view: name=cp-1.slowvm1.tcloud-pg0.utah.cloudlab.us phys_ram=64172MB used_ram=2560MB phys_disk=15GB used_disk=20GB total_vcpus=16 used_vcpus=1 pci_stats=[]\"\n        ],\n        \"semantic_type\": \"\",\n        \"description\": \"\"\n      }\n    },\n    {\n      \"column\": \"EventId\",\n      \"properties\": {\n        \"dtype\": \"category\",\n        \"num_unique_values\": 43,\n        \"samples\": [\n          \"E23\"\n        ],\n        \"semantic_type\": \"\",\n        \"description\": \"\"\n      }\n    },\n    {\n      \"column\": \"EventTemplate\",\n      \"properties\": {\n        \"dtype\": \"category\",\n        \"num_unique_values\": 43,\n        \"samples\": [\n          \"[instance: <*>] VM Stopped (Lifecycle Event)\"\n        ],\n        \"semantic_type\": \"\",\n        \"description\": \"\"\n      }\n    }\n  ]\n}"
            }
          },
          "metadata": {},
          "execution_count": 5
        }
      ]
    },
    {
      "cell_type": "code",
      "source": [
        "from sklearn.model_selection import train_test_split"
      ],
      "metadata": {
        "id": "2xix7Js8wGpi"
      },
      "execution_count": null,
      "outputs": []
    },
    {
      "cell_type": "code",
      "source": [
        "# Split the dataset into training and testing sets\n",
        "train_data, test_data = train_test_split(df, test_size=0.2, random_state=42)\n",
        "\n",
        "# Print the shapes of the resulting datasets\n",
        "print(\"Training Data Shape:\", train_data.shape)\n",
        "print(\"Testing Data Shape:\", test_data.shape)"
      ],
      "metadata": {
        "colab": {
          "base_uri": "https://localhost:8080/"
        },
        "id": "CGuJiwLZwglf",
        "outputId": "5c88f4b1-2c7f-4622-9f4a-14068377dbac"
      },
      "execution_count": null,
      "outputs": [
        {
          "output_type": "stream",
          "name": "stdout",
          "text": [
            "Training Data Shape: (1600, 11)\n",
            "Testing Data Shape: (400, 11)\n"
          ]
        }
      ]
    },
    {
      "cell_type": "code",
      "source": [
        "from sklearn.preprocessing import LabelEncoder, StandardScaler\n",
        "from sklearn.cluster import KMeans\n",
        "import matplotlib.pyplot as plt\n"
      ],
      "metadata": {
        "id": "BkqeNQazyfeF"
      },
      "execution_count": null,
      "outputs": []
    },
    {
      "cell_type": "code",
      "source": [
        "print(df.info())"
      ],
      "metadata": {
        "colab": {
          "base_uri": "https://localhost:8080/"
        },
        "id": "WJj1pE8qxOt-",
        "outputId": "22ed2961-825a-4abe-e3b4-ebbcbdc419de"
      },
      "execution_count": null,
      "outputs": [
        {
          "output_type": "stream",
          "name": "stdout",
          "text": [
            "<class 'pandas.core.frame.DataFrame'>\n",
            "RangeIndex: 2000 entries, 0 to 1999\n",
            "Data columns (total 11 columns):\n",
            " #   Column         Non-Null Count  Dtype \n",
            "---  ------         --------------  ----- \n",
            " 0   LineId         2000 non-null   int64 \n",
            " 1   Logrecord      2000 non-null   object\n",
            " 2   Date           2000 non-null   object\n",
            " 3   Time           2000 non-null   object\n",
            " 4   Pid            2000 non-null   int64 \n",
            " 5   Level          2000 non-null   object\n",
            " 6   Component      2000 non-null   object\n",
            " 7   ADDR           2000 non-null   object\n",
            " 8   Content        2000 non-null   object\n",
            " 9   EventId        2000 non-null   object\n",
            " 10  EventTemplate  2000 non-null   object\n",
            "dtypes: int64(2), object(9)\n",
            "memory usage: 172.0+ KB\n",
            "None\n"
          ]
        }
      ]
    },
    {
      "cell_type": "markdown",
      "source": [
        "Remove columns that are irrelevant for clustering, such as LineId, Logrecord"
      ],
      "metadata": {
        "id": "BuV0Pcu-StoZ"
      }
    },
    {
      "cell_type": "code",
      "source": [
        "df = df.drop(columns=['LineId', 'Logrecord'])\n"
      ],
      "metadata": {
        "id": "P815NQ26xXkJ"
      },
      "execution_count": null,
      "outputs": []
    },
    {
      "cell_type": "markdown",
      "source": [
        "Columns like Level, Component, and EventTemplate are categorical. Convert them into numeric form using LabelEncoder."
      ],
      "metadata": {
        "id": "ZS2jeGNXSxDF"
      }
    },
    {
      "cell_type": "code",
      "source": [
        "encoder = LabelEncoder()\n",
        "\n",
        "df['Level'] = encoder.fit_transform(df['Level'])\n",
        "df['Component'] = encoder.fit_transform(df['Component'])\n",
        "df['EventTemplate'] = encoder.fit_transform(df['EventTemplate'])\n"
      ],
      "metadata": {
        "id": "7_mbwRSz0JPZ"
      },
      "execution_count": null,
      "outputs": []
    },
    {
      "cell_type": "markdown",
      "source": [
        "Combine Date and Time into a single datetime column, and optionally extract numerical features like hour, minute, or second."
      ],
      "metadata": {
        "id": "byJIPuUVSzFV"
      }
    },
    {
      "cell_type": "code",
      "source": [
        "df['Timestamp'] = pd.to_datetime(df['Date'] + ' ' + df['Time'])\n",
        "df['Hour'] = df['Timestamp'].dt.hour\n",
        "df['Minute'] = df['Timestamp'].dt.minute\n",
        "df['Second'] = df['Timestamp'].dt.second\n",
        "\n",
        "# Drop the original date, time, and timestamp columns\n",
        "df = df.drop(columns=['Date', 'Time', 'Timestamp'])\n"
      ],
      "metadata": {
        "id": "eKZOPI-F0N-7"
      },
      "execution_count": null,
      "outputs": []
    },
    {
      "cell_type": "markdown",
      "source": [
        "Scale the data to standardize the ranges."
      ],
      "metadata": {
        "id": "YKdz7HvOS6qZ"
      }
    },
    {
      "cell_type": "code",
      "source": [
        "scaler = StandardScaler()\n",
        "scaled_data = scaler.fit_transform(df)\n"
      ],
      "metadata": {
        "colab": {
          "base_uri": "https://localhost:8080/",
          "height": 316
        },
        "id": "clyrN-an0QtR",
        "outputId": "3d81ca68-bee2-46ee-d56d-112b8181b25d"
      },
      "execution_count": null,
      "outputs": [
        {
          "output_type": "error",
          "ename": "ValueError",
          "evalue": "could not convert string to float: 'req-38101a0b-2096-447d-96ea-a692162415ae 113d3a99c3da401fbd62cc2caa5b96d2 54fadb412c4e40cdbaed9335e4c35a9e - - -'",
          "traceback": [
            "\u001b[0;31m---------------------------------------------------------------------------\u001b[0m",
            "\u001b[0;31mValueError\u001b[0m                                Traceback (most recent call last)",
            "\u001b[0;32m<ipython-input-13-37e5bdb86a21>\u001b[0m in \u001b[0;36m<cell line: 2>\u001b[0;34m()\u001b[0m\n\u001b[1;32m      1\u001b[0m \u001b[0mscaler\u001b[0m \u001b[0;34m=\u001b[0m \u001b[0mStandardScaler\u001b[0m\u001b[0;34m(\u001b[0m\u001b[0;34m)\u001b[0m\u001b[0;34m\u001b[0m\u001b[0;34m\u001b[0m\u001b[0m\n\u001b[0;32m----> 2\u001b[0;31m \u001b[0mscaled_data\u001b[0m \u001b[0;34m=\u001b[0m \u001b[0mscaler\u001b[0m\u001b[0;34m.\u001b[0m\u001b[0mfit_transform\u001b[0m\u001b[0;34m(\u001b[0m\u001b[0mdf\u001b[0m\u001b[0;34m)\u001b[0m\u001b[0;34m\u001b[0m\u001b[0;34m\u001b[0m\u001b[0m\n\u001b[0m",
            "\u001b[0;32m/usr/local/lib/python3.10/dist-packages/sklearn/utils/_set_output.py\u001b[0m in \u001b[0;36mwrapped\u001b[0;34m(self, X, *args, **kwargs)\u001b[0m\n\u001b[1;32m    314\u001b[0m     \u001b[0;34m@\u001b[0m\u001b[0mwraps\u001b[0m\u001b[0;34m(\u001b[0m\u001b[0mf\u001b[0m\u001b[0;34m)\u001b[0m\u001b[0;34m\u001b[0m\u001b[0;34m\u001b[0m\u001b[0m\n\u001b[1;32m    315\u001b[0m     \u001b[0;32mdef\u001b[0m \u001b[0mwrapped\u001b[0m\u001b[0;34m(\u001b[0m\u001b[0mself\u001b[0m\u001b[0;34m,\u001b[0m \u001b[0mX\u001b[0m\u001b[0;34m,\u001b[0m \u001b[0;34m*\u001b[0m\u001b[0margs\u001b[0m\u001b[0;34m,\u001b[0m \u001b[0;34m**\u001b[0m\u001b[0mkwargs\u001b[0m\u001b[0;34m)\u001b[0m\u001b[0;34m:\u001b[0m\u001b[0;34m\u001b[0m\u001b[0;34m\u001b[0m\u001b[0m\n\u001b[0;32m--> 316\u001b[0;31m         \u001b[0mdata_to_wrap\u001b[0m \u001b[0;34m=\u001b[0m \u001b[0mf\u001b[0m\u001b[0;34m(\u001b[0m\u001b[0mself\u001b[0m\u001b[0;34m,\u001b[0m \u001b[0mX\u001b[0m\u001b[0;34m,\u001b[0m \u001b[0;34m*\u001b[0m\u001b[0margs\u001b[0m\u001b[0;34m,\u001b[0m \u001b[0;34m**\u001b[0m\u001b[0mkwargs\u001b[0m\u001b[0;34m)\u001b[0m\u001b[0;34m\u001b[0m\u001b[0;34m\u001b[0m\u001b[0m\n\u001b[0m\u001b[1;32m    317\u001b[0m         \u001b[0;32mif\u001b[0m \u001b[0misinstance\u001b[0m\u001b[0;34m(\u001b[0m\u001b[0mdata_to_wrap\u001b[0m\u001b[0;34m,\u001b[0m \u001b[0mtuple\u001b[0m\u001b[0;34m)\u001b[0m\u001b[0;34m:\u001b[0m\u001b[0;34m\u001b[0m\u001b[0;34m\u001b[0m\u001b[0m\n\u001b[1;32m    318\u001b[0m             \u001b[0;31m# only wrap the first output for cross decomposition\u001b[0m\u001b[0;34m\u001b[0m\u001b[0;34m\u001b[0m\u001b[0m\n",
            "\u001b[0;32m/usr/local/lib/python3.10/dist-packages/sklearn/base.py\u001b[0m in \u001b[0;36mfit_transform\u001b[0;34m(self, X, y, **fit_params)\u001b[0m\n\u001b[1;32m   1096\u001b[0m         \u001b[0;32mif\u001b[0m \u001b[0my\u001b[0m \u001b[0;32mis\u001b[0m \u001b[0;32mNone\u001b[0m\u001b[0;34m:\u001b[0m\u001b[0;34m\u001b[0m\u001b[0;34m\u001b[0m\u001b[0m\n\u001b[1;32m   1097\u001b[0m             \u001b[0;31m# fit method of arity 1 (unsupervised transformation)\u001b[0m\u001b[0;34m\u001b[0m\u001b[0;34m\u001b[0m\u001b[0m\n\u001b[0;32m-> 1098\u001b[0;31m             \u001b[0;32mreturn\u001b[0m \u001b[0mself\u001b[0m\u001b[0;34m.\u001b[0m\u001b[0mfit\u001b[0m\u001b[0;34m(\u001b[0m\u001b[0mX\u001b[0m\u001b[0;34m,\u001b[0m \u001b[0;34m**\u001b[0m\u001b[0mfit_params\u001b[0m\u001b[0;34m)\u001b[0m\u001b[0;34m.\u001b[0m\u001b[0mtransform\u001b[0m\u001b[0;34m(\u001b[0m\u001b[0mX\u001b[0m\u001b[0;34m)\u001b[0m\u001b[0;34m\u001b[0m\u001b[0;34m\u001b[0m\u001b[0m\n\u001b[0m\u001b[1;32m   1099\u001b[0m         \u001b[0;32melse\u001b[0m\u001b[0;34m:\u001b[0m\u001b[0;34m\u001b[0m\u001b[0;34m\u001b[0m\u001b[0m\n\u001b[1;32m   1100\u001b[0m             \u001b[0;31m# fit method of arity 2 (supervised transformation)\u001b[0m\u001b[0;34m\u001b[0m\u001b[0;34m\u001b[0m\u001b[0m\n",
            "\u001b[0;32m/usr/local/lib/python3.10/dist-packages/sklearn/preprocessing/_data.py\u001b[0m in \u001b[0;36mfit\u001b[0;34m(self, X, y, sample_weight)\u001b[0m\n\u001b[1;32m    876\u001b[0m         \u001b[0;31m# Reset internal state before fitting\u001b[0m\u001b[0;34m\u001b[0m\u001b[0;34m\u001b[0m\u001b[0m\n\u001b[1;32m    877\u001b[0m         \u001b[0mself\u001b[0m\u001b[0;34m.\u001b[0m\u001b[0m_reset\u001b[0m\u001b[0;34m(\u001b[0m\u001b[0;34m)\u001b[0m\u001b[0;34m\u001b[0m\u001b[0;34m\u001b[0m\u001b[0m\n\u001b[0;32m--> 878\u001b[0;31m         \u001b[0;32mreturn\u001b[0m \u001b[0mself\u001b[0m\u001b[0;34m.\u001b[0m\u001b[0mpartial_fit\u001b[0m\u001b[0;34m(\u001b[0m\u001b[0mX\u001b[0m\u001b[0;34m,\u001b[0m \u001b[0my\u001b[0m\u001b[0;34m,\u001b[0m \u001b[0msample_weight\u001b[0m\u001b[0;34m)\u001b[0m\u001b[0;34m\u001b[0m\u001b[0;34m\u001b[0m\u001b[0m\n\u001b[0m\u001b[1;32m    879\u001b[0m \u001b[0;34m\u001b[0m\u001b[0m\n\u001b[1;32m    880\u001b[0m     \u001b[0;34m@\u001b[0m\u001b[0m_fit_context\u001b[0m\u001b[0;34m(\u001b[0m\u001b[0mprefer_skip_nested_validation\u001b[0m\u001b[0;34m=\u001b[0m\u001b[0;32mTrue\u001b[0m\u001b[0;34m)\u001b[0m\u001b[0;34m\u001b[0m\u001b[0;34m\u001b[0m\u001b[0m\n",
            "\u001b[0;32m/usr/local/lib/python3.10/dist-packages/sklearn/base.py\u001b[0m in \u001b[0;36mwrapper\u001b[0;34m(estimator, *args, **kwargs)\u001b[0m\n\u001b[1;32m   1471\u001b[0m                 )\n\u001b[1;32m   1472\u001b[0m             ):\n\u001b[0;32m-> 1473\u001b[0;31m                 \u001b[0;32mreturn\u001b[0m \u001b[0mfit_method\u001b[0m\u001b[0;34m(\u001b[0m\u001b[0mestimator\u001b[0m\u001b[0;34m,\u001b[0m \u001b[0;34m*\u001b[0m\u001b[0margs\u001b[0m\u001b[0;34m,\u001b[0m \u001b[0;34m**\u001b[0m\u001b[0mkwargs\u001b[0m\u001b[0;34m)\u001b[0m\u001b[0;34m\u001b[0m\u001b[0;34m\u001b[0m\u001b[0m\n\u001b[0m\u001b[1;32m   1474\u001b[0m \u001b[0;34m\u001b[0m\u001b[0m\n\u001b[1;32m   1475\u001b[0m         \u001b[0;32mreturn\u001b[0m \u001b[0mwrapper\u001b[0m\u001b[0;34m\u001b[0m\u001b[0;34m\u001b[0m\u001b[0m\n",
            "\u001b[0;32m/usr/local/lib/python3.10/dist-packages/sklearn/preprocessing/_data.py\u001b[0m in \u001b[0;36mpartial_fit\u001b[0;34m(self, X, y, sample_weight)\u001b[0m\n\u001b[1;32m    912\u001b[0m         \"\"\"\n\u001b[1;32m    913\u001b[0m         \u001b[0mfirst_call\u001b[0m \u001b[0;34m=\u001b[0m \u001b[0;32mnot\u001b[0m \u001b[0mhasattr\u001b[0m\u001b[0;34m(\u001b[0m\u001b[0mself\u001b[0m\u001b[0;34m,\u001b[0m \u001b[0;34m\"n_samples_seen_\"\u001b[0m\u001b[0;34m)\u001b[0m\u001b[0;34m\u001b[0m\u001b[0;34m\u001b[0m\u001b[0m\n\u001b[0;32m--> 914\u001b[0;31m         X = self._validate_data(\n\u001b[0m\u001b[1;32m    915\u001b[0m             \u001b[0mX\u001b[0m\u001b[0;34m,\u001b[0m\u001b[0;34m\u001b[0m\u001b[0;34m\u001b[0m\u001b[0m\n\u001b[1;32m    916\u001b[0m             \u001b[0maccept_sparse\u001b[0m\u001b[0;34m=\u001b[0m\u001b[0;34m(\u001b[0m\u001b[0;34m\"csr\"\u001b[0m\u001b[0;34m,\u001b[0m \u001b[0;34m\"csc\"\u001b[0m\u001b[0;34m)\u001b[0m\u001b[0;34m,\u001b[0m\u001b[0;34m\u001b[0m\u001b[0;34m\u001b[0m\u001b[0m\n",
            "\u001b[0;32m/usr/local/lib/python3.10/dist-packages/sklearn/base.py\u001b[0m in \u001b[0;36m_validate_data\u001b[0;34m(self, X, y, reset, validate_separately, cast_to_ndarray, **check_params)\u001b[0m\n\u001b[1;32m    631\u001b[0m                 \u001b[0mout\u001b[0m \u001b[0;34m=\u001b[0m \u001b[0mX\u001b[0m\u001b[0;34m,\u001b[0m \u001b[0my\u001b[0m\u001b[0;34m\u001b[0m\u001b[0;34m\u001b[0m\u001b[0m\n\u001b[1;32m    632\u001b[0m         \u001b[0;32melif\u001b[0m \u001b[0;32mnot\u001b[0m \u001b[0mno_val_X\u001b[0m \u001b[0;32mand\u001b[0m \u001b[0mno_val_y\u001b[0m\u001b[0;34m:\u001b[0m\u001b[0;34m\u001b[0m\u001b[0;34m\u001b[0m\u001b[0m\n\u001b[0;32m--> 633\u001b[0;31m             \u001b[0mout\u001b[0m \u001b[0;34m=\u001b[0m \u001b[0mcheck_array\u001b[0m\u001b[0;34m(\u001b[0m\u001b[0mX\u001b[0m\u001b[0;34m,\u001b[0m \u001b[0minput_name\u001b[0m\u001b[0;34m=\u001b[0m\u001b[0;34m\"X\"\u001b[0m\u001b[0;34m,\u001b[0m \u001b[0;34m**\u001b[0m\u001b[0mcheck_params\u001b[0m\u001b[0;34m)\u001b[0m\u001b[0;34m\u001b[0m\u001b[0;34m\u001b[0m\u001b[0m\n\u001b[0m\u001b[1;32m    634\u001b[0m         \u001b[0;32melif\u001b[0m \u001b[0mno_val_X\u001b[0m \u001b[0;32mand\u001b[0m \u001b[0;32mnot\u001b[0m \u001b[0mno_val_y\u001b[0m\u001b[0;34m:\u001b[0m\u001b[0;34m\u001b[0m\u001b[0;34m\u001b[0m\u001b[0m\n\u001b[1;32m    635\u001b[0m             \u001b[0mout\u001b[0m \u001b[0;34m=\u001b[0m \u001b[0m_check_y\u001b[0m\u001b[0;34m(\u001b[0m\u001b[0my\u001b[0m\u001b[0;34m,\u001b[0m \u001b[0;34m**\u001b[0m\u001b[0mcheck_params\u001b[0m\u001b[0;34m)\u001b[0m\u001b[0;34m\u001b[0m\u001b[0;34m\u001b[0m\u001b[0m\n",
            "\u001b[0;32m/usr/local/lib/python3.10/dist-packages/sklearn/utils/validation.py\u001b[0m in \u001b[0;36mcheck_array\u001b[0;34m(array, accept_sparse, accept_large_sparse, dtype, order, copy, force_writeable, force_all_finite, ensure_2d, allow_nd, ensure_min_samples, ensure_min_features, estimator, input_name)\u001b[0m\n\u001b[1;32m   1010\u001b[0m                     \u001b[0marray\u001b[0m \u001b[0;34m=\u001b[0m \u001b[0mxp\u001b[0m\u001b[0;34m.\u001b[0m\u001b[0mastype\u001b[0m\u001b[0;34m(\u001b[0m\u001b[0marray\u001b[0m\u001b[0;34m,\u001b[0m \u001b[0mdtype\u001b[0m\u001b[0;34m,\u001b[0m \u001b[0mcopy\u001b[0m\u001b[0;34m=\u001b[0m\u001b[0;32mFalse\u001b[0m\u001b[0;34m)\u001b[0m\u001b[0;34m\u001b[0m\u001b[0;34m\u001b[0m\u001b[0m\n\u001b[1;32m   1011\u001b[0m                 \u001b[0;32melse\u001b[0m\u001b[0;34m:\u001b[0m\u001b[0;34m\u001b[0m\u001b[0;34m\u001b[0m\u001b[0m\n\u001b[0;32m-> 1012\u001b[0;31m                     \u001b[0marray\u001b[0m \u001b[0;34m=\u001b[0m \u001b[0m_asarray_with_order\u001b[0m\u001b[0;34m(\u001b[0m\u001b[0marray\u001b[0m\u001b[0;34m,\u001b[0m \u001b[0morder\u001b[0m\u001b[0;34m=\u001b[0m\u001b[0morder\u001b[0m\u001b[0;34m,\u001b[0m \u001b[0mdtype\u001b[0m\u001b[0;34m=\u001b[0m\u001b[0mdtype\u001b[0m\u001b[0;34m,\u001b[0m \u001b[0mxp\u001b[0m\u001b[0;34m=\u001b[0m\u001b[0mxp\u001b[0m\u001b[0;34m)\u001b[0m\u001b[0;34m\u001b[0m\u001b[0;34m\u001b[0m\u001b[0m\n\u001b[0m\u001b[1;32m   1013\u001b[0m             \u001b[0;32mexcept\u001b[0m \u001b[0mComplexWarning\u001b[0m \u001b[0;32mas\u001b[0m \u001b[0mcomplex_warning\u001b[0m\u001b[0;34m:\u001b[0m\u001b[0;34m\u001b[0m\u001b[0;34m\u001b[0m\u001b[0m\n\u001b[1;32m   1014\u001b[0m                 raise ValueError(\n",
            "\u001b[0;32m/usr/local/lib/python3.10/dist-packages/sklearn/utils/_array_api.py\u001b[0m in \u001b[0;36m_asarray_with_order\u001b[0;34m(array, dtype, order, copy, xp, device)\u001b[0m\n\u001b[1;32m    743\u001b[0m             \u001b[0marray\u001b[0m \u001b[0;34m=\u001b[0m \u001b[0mnumpy\u001b[0m\u001b[0;34m.\u001b[0m\u001b[0marray\u001b[0m\u001b[0;34m(\u001b[0m\u001b[0marray\u001b[0m\u001b[0;34m,\u001b[0m \u001b[0morder\u001b[0m\u001b[0;34m=\u001b[0m\u001b[0morder\u001b[0m\u001b[0;34m,\u001b[0m \u001b[0mdtype\u001b[0m\u001b[0;34m=\u001b[0m\u001b[0mdtype\u001b[0m\u001b[0;34m)\u001b[0m\u001b[0;34m\u001b[0m\u001b[0;34m\u001b[0m\u001b[0m\n\u001b[1;32m    744\u001b[0m         \u001b[0;32melse\u001b[0m\u001b[0;34m:\u001b[0m\u001b[0;34m\u001b[0m\u001b[0;34m\u001b[0m\u001b[0m\n\u001b[0;32m--> 745\u001b[0;31m             \u001b[0marray\u001b[0m \u001b[0;34m=\u001b[0m \u001b[0mnumpy\u001b[0m\u001b[0;34m.\u001b[0m\u001b[0masarray\u001b[0m\u001b[0;34m(\u001b[0m\u001b[0marray\u001b[0m\u001b[0;34m,\u001b[0m \u001b[0morder\u001b[0m\u001b[0;34m=\u001b[0m\u001b[0morder\u001b[0m\u001b[0;34m,\u001b[0m \u001b[0mdtype\u001b[0m\u001b[0;34m=\u001b[0m\u001b[0mdtype\u001b[0m\u001b[0;34m)\u001b[0m\u001b[0;34m\u001b[0m\u001b[0;34m\u001b[0m\u001b[0m\n\u001b[0m\u001b[1;32m    746\u001b[0m \u001b[0;34m\u001b[0m\u001b[0m\n\u001b[1;32m    747\u001b[0m         \u001b[0;31m# At this point array is a NumPy ndarray. We convert it to an array\u001b[0m\u001b[0;34m\u001b[0m\u001b[0;34m\u001b[0m\u001b[0m\n",
            "\u001b[0;32m/usr/local/lib/python3.10/dist-packages/pandas/core/generic.py\u001b[0m in \u001b[0;36m__array__\u001b[0;34m(self, dtype, copy)\u001b[0m\n\u001b[1;32m   2151\u001b[0m     ) -> np.ndarray:\n\u001b[1;32m   2152\u001b[0m         \u001b[0mvalues\u001b[0m \u001b[0;34m=\u001b[0m \u001b[0mself\u001b[0m\u001b[0;34m.\u001b[0m\u001b[0m_values\u001b[0m\u001b[0;34m\u001b[0m\u001b[0;34m\u001b[0m\u001b[0m\n\u001b[0;32m-> 2153\u001b[0;31m         \u001b[0marr\u001b[0m \u001b[0;34m=\u001b[0m \u001b[0mnp\u001b[0m\u001b[0;34m.\u001b[0m\u001b[0masarray\u001b[0m\u001b[0;34m(\u001b[0m\u001b[0mvalues\u001b[0m\u001b[0;34m,\u001b[0m \u001b[0mdtype\u001b[0m\u001b[0;34m=\u001b[0m\u001b[0mdtype\u001b[0m\u001b[0;34m)\u001b[0m\u001b[0;34m\u001b[0m\u001b[0;34m\u001b[0m\u001b[0m\n\u001b[0m\u001b[1;32m   2154\u001b[0m         if (\n\u001b[1;32m   2155\u001b[0m             \u001b[0mastype_is_view\u001b[0m\u001b[0;34m(\u001b[0m\u001b[0mvalues\u001b[0m\u001b[0;34m.\u001b[0m\u001b[0mdtype\u001b[0m\u001b[0;34m,\u001b[0m \u001b[0marr\u001b[0m\u001b[0;34m.\u001b[0m\u001b[0mdtype\u001b[0m\u001b[0;34m)\u001b[0m\u001b[0;34m\u001b[0m\u001b[0;34m\u001b[0m\u001b[0m\n",
            "\u001b[0;31mValueError\u001b[0m: could not convert string to float: 'req-38101a0b-2096-447d-96ea-a692162415ae 113d3a99c3da401fbd62cc2caa5b96d2 54fadb412c4e40cdbaed9335e4c35a9e - - -'"
          ]
        }
      ]
    },
    {
      "cell_type": "code",
      "source": [
        "# Check the data types of each column\n",
        "print(df.dtypes)\n",
        "\n",
        "# Identify non-numeric columns\n",
        "non_numeric_cols = df.select_dtypes(include=['object']).columns\n",
        "print(\"Non-numeric columns:\", non_numeric_cols)\n"
      ],
      "metadata": {
        "colab": {
          "base_uri": "https://localhost:8080/"
        },
        "id": "Cb08gLRr0eoN",
        "outputId": "531088d9-b881-4fc0-8374-ea18a2a19f86"
      },
      "execution_count": null,
      "outputs": [
        {
          "output_type": "stream",
          "name": "stdout",
          "text": [
            "Pid               int64\n",
            "Level             int64\n",
            "Component         int64\n",
            "ADDR             object\n",
            "Content          object\n",
            "EventId          object\n",
            "EventTemplate     int64\n",
            "Hour              int32\n",
            "Minute            int32\n",
            "Second            int32\n",
            "dtype: object\n",
            "Non-numeric columns: Index(['ADDR', 'Content', 'EventId'], dtype='object')\n"
          ]
        }
      ]
    },
    {
      "cell_type": "code",
      "source": [
        "df = df.drop(columns=['EventId', 'ADDR', 'Content'])\n"
      ],
      "metadata": {
        "id": "2Q28D8ru07-o"
      },
      "execution_count": null,
      "outputs": []
    },
    {
      "cell_type": "code",
      "source": [
        "from sklearn.preprocessing import LabelEncoder\n",
        "\n",
        "# Encode categorical columns\n",
        "for col in ['Level', 'Component', 'EventTemplate']:\n",
        "    df[col] = LabelEncoder().fit_transform(df[col])\n"
      ],
      "metadata": {
        "id": "iXU_BGx61Enc"
      },
      "execution_count": null,
      "outputs": []
    },
    {
      "cell_type": "code",
      "source": [
        "print(df.head())\n",
        "print(df.dtypes)\n"
      ],
      "metadata": {
        "colab": {
          "base_uri": "https://localhost:8080/"
        },
        "id": "7d8BygUF1HpZ",
        "outputId": "79daa8b8-0b41-448f-917b-74b630326172"
      },
      "execution_count": null,
      "outputs": [
        {
          "output_type": "stream",
          "name": "stdout",
          "text": [
            "     Pid  Level  Component  EventTemplate  Hour  Minute  Second\n",
            "0  25746      0          6              1     0       0       0\n",
            "1  25746      0          6              1     0       0       0\n",
            "2  25746      0          6              1     0       0       1\n",
            "3  25746      0          6              1     0       0       1\n",
            "4  25746      0          6              1     0       0       3\n",
            "Pid              int64\n",
            "Level            int64\n",
            "Component        int64\n",
            "EventTemplate    int64\n",
            "Hour             int32\n",
            "Minute           int32\n",
            "Second           int32\n",
            "dtype: object\n"
          ]
        }
      ]
    },
    {
      "cell_type": "code",
      "source": [
        "from sklearn.preprocessing import StandardScaler\n",
        "\n",
        "# Scale the data\n",
        "scaler = StandardScaler()\n",
        "scaled_data = scaler.fit_transform(df)\n"
      ],
      "metadata": {
        "id": "twbcz9eZ1MmF"
      },
      "execution_count": null,
      "outputs": []
    },
    {
      "cell_type": "code",
      "source": [
        "# Elbow method to find the optimal number of clusters\n",
        "inertia = []\n",
        "k_range = range(1, 11)  # Try k=1 to k=10\n",
        "\n",
        "for k in k_range:\n",
        "    kmeans = KMeans(n_clusters=k, random_state=42)\n",
        "    kmeans.fit(scaled_data)\n",
        "    inertia.append(kmeans.inertia_)\n",
        "\n",
        "# Plot the elbow curve\n",
        "plt.plot(k_range, inertia, marker='o')\n",
        "plt.title(\"Elbow Method\")\n",
        "plt.xlabel(\"Number of Clusters\")\n",
        "plt.ylabel(\"Inertia\")\n",
        "plt.show()\n"
      ],
      "metadata": {
        "colab": {
          "base_uri": "https://localhost:8080/",
          "height": 472
        },
        "id": "ZQjX0Acl1RHa",
        "outputId": "e48bfa89-f87c-49ba-a858-3aa0858941b1"
      },
      "execution_count": null,
      "outputs": [
        {
          "output_type": "display_data",
          "data": {
            "text/plain": [
              "<Figure size 640x480 with 1 Axes>"
            ],
            "image/png": "[encoded data removed]"
          },
          "metadata": {}
        }
      ]
    },
    {
      "cell_type": "code",
      "source": [
        "# Apply K-Means with the chosen number of clusters (e.g., k=3)\n",
        "optimal_k = 6  # Replace with the value from the elbow method\n",
        "kmeans = KMeans(n_clusters=optimal_k, random_state=42)\n",
        "kmeans.fit(scaled_data)\n",
        "\n",
        "# Add cluster labels to the original DataFrame\n",
        "df['Cluster'] = kmeans.labels_\n",
        "\n",
        "# View clustered data\n",
        "print(df.head())\n"
      ],
      "metadata": {
        "colab": {
          "base_uri": "https://localhost:8080/"
        },
        "id": "Qz9BRb_V1Wfj",
        "outputId": "511179f1-b7d8-421b-fd91-4b94f77374d8"
      },
      "execution_count": null,
      "outputs": [
        {
          "output_type": "stream",
          "name": "stdout",
          "text": [
            "     Pid  Level  Component  EventTemplate  Hour  Minute  Second  Cluster\n",
            "0  25746      0          6              1     0       0       0        4\n",
            "1  25746      0          6              1     0       0       0        4\n",
            "2  25746      0          6              1     0       0       1        4\n",
            "3  25746      0          6              1     0       0       1        4\n",
            "4  25746      0          6              1     0       0       3        4\n"
          ]
        }
      ]
    },
    {
      "cell_type": "code",
      "source": [
        "# Group by cluster and calculate mean for each column\n",
        "cluster_summary = df.groupby('Cluster').mean()\n",
        "print(cluster_summary)\n"
      ],
      "metadata": {
        "colab": {
          "base_uri": "https://localhost:8080/"
        },
        "id": "syfwst1p1XuT",
        "outputId": "3bbd2513-67bb-43b2-abf6-6054e43f664b"
      },
      "execution_count": null,
      "outputs": [
        {
          "output_type": "stream",
          "name": "stdout",
          "text": [
            "                  Pid  Level  Component  EventTemplate  Hour     Minute  \\\n",
            "Cluster                                                                   \n",
            "0         2931.000000    0.0   8.740920      24.283293   0.0   6.995157   \n",
            "1        25585.000000    0.0   5.542500       1.427500   0.0  11.485000   \n",
            "2         2931.000000    1.0   8.806452      16.032258   0.0   7.193548   \n",
            "3         2931.000000    0.0   2.758836      28.249480   0.0   6.902287   \n",
            "4        25412.291291    0.0   5.564565       1.450450   0.0   4.216216   \n",
            "5        25754.444444    0.0   5.631579       1.409357   0.0   4.520468   \n",
            "\n",
            "            Second  \n",
            "Cluster             \n",
            "0        27.876513  \n",
            "1        26.635000  \n",
            "2        28.290323  \n",
            "3        28.486486  \n",
            "4        13.138138  \n",
            "5        47.111111  \n"
          ]
        }
      ]
    },
    {
      "cell_type": "code",
      "source": [
        "from sklearn.decomposition import PCA\n",
        "\n",
        "# Reduce dimensions to 2 for visualization\n",
        "pca = PCA(n_components=2)\n",
        "reduced_data = pca.fit_transform(scaled_data)\n",
        "\n",
        "# Scatter plot of clusters\n",
        "plt.scatter(reduced_data[:, 0], reduced_data[:, 1], c=df['Cluster'], cmap='viridis', alpha=0.7)\n",
        "plt.title(\"Cluster Visualization\")\n",
        "plt.xlabel(\"PCA Component 1\")\n",
        "plt.ylabel(\"PCA Component 2\")\n",
        "plt.colorbar(label='Cluster')\n",
        "plt.show()\n"
      ],
      "metadata": {
        "colab": {
          "base_uri": "https://localhost:8080/",
          "height": 472
        },
        "id": "SSZdpGIb1btu",
        "outputId": "96579f47-b13b-4ab3-bb04-961796fcc148"
      },
      "execution_count": null,
      "outputs": [
        {
          "output_type": "display_data",
          "data": {
            "text/plain": [
              "<Figure size 640x480 with 2 Axes>"
            ],
            "image/png": "[encoded data removed]"
          },
          "metadata": {}
        }
      ]
    },
    {
      "cell_type": "markdown",
      "source": [
        "The visualization shows the results of clustering applied to the log data, where:\n",
        "\n",
        "Each dot represents a log entry that has been projected into a 2D space using PCA (Principal Component Analysis).\n",
        "The colors represent the different clusters assigned by the clustering algorithm (e.g., K-Means).\n",
        "The axes represent the first two principal components, which capture most of the variance in the data."
      ],
      "metadata": {
        "id": "9jxxrTRp18T7"
      }
    },
    {
      "cell_type": "markdown",
      "source": [
        "Key Insights:\n",
        "Distinct Clusters:\n",
        "The separation between clusters indicates that the log entries have been grouped based on similarities in their features.\n",
        "For instance, the cluster in the top-left corner (light green/blue) suggests that these logs share unique characteristics distinct from others.\n",
        "Overlapping Clusters:\n",
        "Some clusters (e.g., purple and yellow) overlap slightly, suggesting that the features for these logs are not entirely distinct and might share similarities.\n",
        "This could indicate either an inherent relationship between these logs or that the features might not fully capture their differences.\n",
        "Potential Outliers:\n",
        "The few isolated dots (e.g., at the top) might represent outliers or unusual log entries. These could be rare events, errors, or logs with unique characteristics.\n"
      ],
      "metadata": {
        "id": "ZBR4Irch2Etr"
      }
    },
    {
      "cell_type": "code",
      "source": [
        "cluster_summary = df.groupby('Cluster').mean()\n",
        "print(cluster_summary)\n"
      ],
      "metadata": {
        "colab": {
          "base_uri": "https://localhost:8080/"
        },
        "id": "4amhOCrC1-Xc",
        "outputId": "063c4c1d-7675-49ed-d480-6a2c47111ece"
      },
      "execution_count": null,
      "outputs": [
        {
          "output_type": "stream",
          "name": "stdout",
          "text": [
            "                  Pid  Level  Component  EventTemplate  Hour     Minute  \\\n",
            "Cluster                                                                   \n",
            "0         2931.000000    0.0   8.740920      24.283293   0.0   6.995157   \n",
            "1        25585.000000    0.0   5.542500       1.427500   0.0  11.485000   \n",
            "2         2931.000000    1.0   8.806452      16.032258   0.0   7.193548   \n",
            "3         2931.000000    0.0   2.758836      28.249480   0.0   6.902287   \n",
            "4        25412.291291    0.0   5.564565       1.450450   0.0   4.216216   \n",
            "5        25754.444444    0.0   5.631579       1.409357   0.0   4.520468   \n",
            "\n",
            "            Second  \n",
            "Cluster             \n",
            "0        27.876513  \n",
            "1        26.635000  \n",
            "2        28.290323  \n",
            "3        28.486486  \n",
            "4        13.138138  \n",
            "5        47.111111  \n"
          ]
        }
      ]
    },
    {
      "cell_type": "markdown",
      "source": [
        "Logs far from cluster centroids or with low similarity to other points in their assigned cluster are likely anomalies."
      ],
      "metadata": {
        "id": "-FBu67MaVY9f"
      }
    },
    {
      "cell_type": "code",
      "source": [
        "import numpy as np\n",
        "\n",
        "# Compute the distance of each log to its cluster's centroid\n",
        "distances = np.linalg.norm(scaled_data - kmeans.cluster_centers_[kmeans.labels_], axis=1)\n",
        "\n",
        "# Define a threshold for anomalies (e.g., top 5% of distances)\n",
        "threshold = np.percentile(distances, 95)\n",
        "anomalies = df[distances > threshold]\n",
        "\n",
        "# Add distance and anomaly labels to the DataFrame\n",
        "df['Distance'] = distances\n",
        "df['Anomaly'] = distances > threshold\n",
        "\n",
        "print(\"Number of anomalies:\", len(anomalies))\n",
        "print(anomalies)\n"
      ],
      "metadata": {
        "colab": {
          "base_uri": "https://localhost:8080/"
        },
        "id": "3ZaLz3kJ2Bix",
        "outputId": "6d2b3e1a-08aa-4b00-85f6-b195531a108e"
      },
      "execution_count": null,
      "outputs": [
        {
          "output_type": "stream",
          "name": "stdout",
          "text": [
            "Number of anomalies: 100\n",
            "        Pid  Level  Component  EventTemplate  Hour  Minute  Second  Cluster\n",
            "6      2931      0          3             36     0       0       4        3\n",
            "11     2931      0          9             41     0       0       5        0\n",
            "12     2931      0          9             42     0       0       5        0\n",
            "13     2931      0          9              3     0       0       5        0\n",
            "20    25743      0          0              7     0       0      10        4\n",
            "...     ...    ...        ...            ...   ...     ...     ...      ...\n",
            "1966  25743      0          0              7     0      14      39        1\n",
            "1978   2931      0          9              3     0      14      40        0\n",
            "1981   2931      0          9             41     0      14      45        0\n",
            "1982   2931      0          9             42     0      14      45        0\n",
            "1985   2931      0          9              3     0      14      45        0\n",
            "\n",
            "[100 rows x 8 columns]\n"
          ]
        }
      ]
    },
    {
      "cell_type": "code",
      "source": [
        "import matplotlib.pyplot as plt\n",
        "\n",
        "# Scatter plot with anomalies highlighted\n",
        "plt.scatter(reduced_data[:, 0], reduced_data[:, 1], c=kmeans.labels_, cmap='viridis', label='Clusters')\n",
        "plt.scatter(reduced_data[distances > threshold, 0], reduced_data[distances > threshold, 1], c='red', label='Anomalies', marker='x')\n",
        "plt.colorbar(label=\"Cluster\")\n",
        "plt.title(\"Clusters and Anomalies\")\n",
        "plt.legend()\n",
        "plt.show()\n"
      ],
      "metadata": {
        "colab": {
          "base_uri": "https://localhost:8080/",
          "height": 452
        },
        "id": "sztWhiH3UnPW",
        "outputId": "fc766bd5-9d61-4088-a67c-a81cd12e94dd"
      },
      "execution_count": null,
      "outputs": [
        {
          "output_type": "display_data",
          "data": {
            "text/plain": [
              "<Figure size 640x480 with 2 Axes>"
            ],
            "image/png": "[encoded data removed]"
          },
          "metadata": {}
        }
      ]
    },
    {
      "cell_type": "markdown",
      "source": [
        "DBSCAN identifies outliers naturally as points that don’t belong to any dense region (noise points).\n",
        "\n"
      ],
      "metadata": {
        "id": "X9Lm6eMjVUrZ"
      }
    },
    {
      "cell_type": "code",
      "source": [
        "from sklearn.cluster import DBSCAN\n",
        "\n",
        "# Apply DBSCAN\n",
        "dbscan = DBSCAN(eps=0.5, min_samples=5).fit(scaled_data)\n",
        "df['DBSCAN_Cluster'] = dbscan.labels_\n",
        "\n",
        "# Outliers are marked as -1 in DBSCAN\n",
        "anomalies = df[df['DBSCAN_Cluster'] == -1]\n",
        "print(\"Number of anomalies detected by DBSCAN:\", len(anomalies))\n",
        "print(anomalies)\n"
      ],
      "metadata": {
        "colab": {
          "base_uri": "https://localhost:8080/"
        },
        "id": "OdwbFSc0U22F",
        "outputId": "1a34471f-d143-4900-eb70-9a42c92acaf1"
      },
      "execution_count": null,
      "outputs": [
        {
          "output_type": "stream",
          "name": "stdout",
          "text": [
            "Number of anomalies detected by DBSCAN: 166\n",
            "        Pid  Level  Component  EventTemplate  Hour  Minute  Second  Cluster  \\\n",
            "20    25743      0          0              7     0       0      10        4   \n",
            "56     2931      1          9             16     0       0      20        2   \n",
            "57     2931      0          9             10     0       0      20        0   \n",
            "58     2931      0          9             11     0       0      20        0   \n",
            "59    25746      0          1              9     0       0      21        4   \n",
            "...     ...    ...        ...            ...   ...     ...     ...      ...   \n",
            "1924   2931      0          2             19     0      14      19        3   \n",
            "1966  25743      0          0              7     0      14      39        1   \n",
            "1978   2931      0          9              3     0      14      40        0   \n",
            "1985   2931      0          9              3     0      14      45        0   \n",
            "1998   2931      0          8             24     0      14      47        0   \n",
            "\n",
            "      Distance  Anomaly  DBSCAN_Cluster  \n",
            "20    2.712686     True              -1  \n",
            "56    1.747233    False              -1  \n",
            "57    1.945892    False              -1  \n",
            "58    1.914278    False              -1  \n",
            "59    2.368972     True              -1  \n",
            "...        ...      ...             ...  \n",
            "1924  1.880348    False              -1  \n",
            "1966  2.676015     True              -1  \n",
            "1978  2.275492     True              -1  \n",
            "1985  2.379712     True              -1  \n",
            "1998  1.998840    False              -1  \n",
            "\n",
            "[166 rows x 11 columns]\n"
          ]
        }
      ]
    },
    {
      "cell_type": "markdown",
      "source": [
        "Isolation Forest is a tree-based anomaly detection algorithm that isolates anomalies more easily than inliers."
      ],
      "metadata": {
        "id": "qaI6S0sAVfLq"
      }
    },
    {
      "cell_type": "code",
      "source": [
        "from sklearn.ensemble import IsolationForest\n",
        "\n",
        "# Fit Isolation Forest\n",
        "iso_forest = IsolationForest(contamination=0.05, random_state=42)\n",
        "df['Anomaly_Score'] = iso_forest.fit_predict(scaled_data)\n",
        "\n",
        "# Anomalies are marked with -1\n",
        "anomalies = df[df['Anomaly_Score'] == -1]\n",
        "print(\"Number of anomalies detected by Isolation Forest:\", len(anomalies))\n",
        "print(anomalies)\n"
      ],
      "metadata": {
        "colab": {
          "base_uri": "https://localhost:8080/"
        },
        "id": "Z26E_waMU9Rq",
        "outputId": "592645f5-9f55-4c6f-82de-61fa31927760"
      },
      "execution_count": null,
      "outputs": [
        {
          "output_type": "stream",
          "name": "stdout",
          "text": [
            "Number of anomalies detected by Isolation Forest: 100\n",
            "        Pid  Level  Component  EventTemplate  Hour  Minute  Second  Cluster  \\\n",
            "12     2931      0          9             42     0       0       5        0   \n",
            "13     2931      0          9              3     0       0       5        0   \n",
            "20    25743      0          0              7     0       0      10        4   \n",
            "56     2931      1          9             16     0       0      20        2   \n",
            "59    25746      0          1              9     0       0      21        4   \n",
            "...     ...    ...        ...            ...   ...     ...     ...      ...   \n",
            "1907  25746      0          1              9     0      14       9        1   \n",
            "1909   2931      1          9             16     0      14      10        2   \n",
            "1912   2931      1          9             16     0      14      15        2   \n",
            "1923   2931      0          2             40     0      14      18        3   \n",
            "1966  25743      0          0              7     0      14      39        1   \n",
            "\n",
            "      Distance  Anomaly  DBSCAN_Cluster  Anomaly_Score  \n",
            "12    2.409013     True               2             -1  \n",
            "13    2.533600     True               5             -1  \n",
            "20    2.712686     True              -1             -1  \n",
            "56    1.747233    False              -1             -1  \n",
            "59    2.368972     True              -1             -1  \n",
            "...        ...      ...             ...            ...  \n",
            "1907  2.403293     True              -1             -1  \n",
            "1909  1.907786    False              -1             -1  \n",
            "1912  1.765154    False              -1             -1  \n",
            "1923  1.958185    False               1             -1  \n",
            "1966  2.676015     True              -1             -1  \n",
            "\n",
            "[100 rows x 12 columns]\n"
          ]
        }
      ]
    },
    {
      "cell_type": "code",
      "source": [
        "print(anomalies[['Component']])\n"
      ],
      "metadata": {
        "colab": {
          "base_uri": "https://localhost:8080/"
        },
        "id": "1FDWWz7LVB5K",
        "outputId": "9e1a224f-a42a-4310-8039-57b502f45540"
      },
      "execution_count": null,
      "outputs": [
        {
          "output_type": "stream",
          "name": "stdout",
          "text": [
            "      Component\n",
            "12            9\n",
            "13            9\n",
            "20            0\n",
            "56            9\n",
            "59            1\n",
            "...         ...\n",
            "1907          1\n",
            "1909          9\n",
            "1912          9\n",
            "1923          2\n",
            "1966          0\n",
            "\n",
            "[100 rows x 1 columns]\n"
          ]
        }
      ]
    },
    {
      "cell_type": "code",
      "source": [
        "print(anomalies[['Level', 'Component', 'EventTemplate']].value_counts())\n"
      ],
      "metadata": {
        "colab": {
          "base_uri": "https://localhost:8080/"
        },
        "id": "WVF8_ydWVmK6",
        "outputId": "0326a65b-b59d-43e8-9fb3-4267bce255c4"
      },
      "execution_count": null,
      "outputs": [
        {
          "output_type": "stream",
          "name": "stdout",
          "text": [
            "Level  Component  EventTemplate\n",
            "1      9          16               30\n",
            "0      0          7                22\n",
            "       1          9                21\n",
            "       9          42                7\n",
            "       7          14                5\n",
            "       9          41                4\n",
            "       2          40                2\n",
            "       7          13                2\n",
            "       9          3                 2\n",
            "       3          12                1\n",
            "                  26                1\n",
            "       8          24                1\n",
            "                  25                1\n",
            "1      3          17                1\n",
            "Name: count, dtype: int64\n"
          ]
        }
      ]
    },
    {
      "cell_type": "code",
      "source": [
        "import matplotlib.pyplot as plt\n",
        "\n",
        "# Scatter plot with anomalies highlighted\n",
        "plt.scatter(reduced_data[:, 0], reduced_data[:, 1], c='blue', label='Normal')\n",
        "plt.scatter(reduced_data[anomalies.index, 0], reduced_data[anomalies.index, 1], c='red', label='Anomalies')\n",
        "plt.legend()\n",
        "plt.title(\"Anomalies in PCA Space\")\n",
        "plt.show()\n"
      ],
      "metadata": {
        "colab": {
          "base_uri": "https://localhost:8080/",
          "height": 452
        },
        "id": "97W8J-qpVpJW",
        "outputId": "f166ce18-b3c7-4ccd-8acd-66e310eb57a8"
      },
      "execution_count": null,
      "outputs": [
        {
          "output_type": "display_data",
          "data": {
            "text/plain": [
              "<Figure size 640x480 with 1 Axes>"
            ],
            "image/png": "[encoded data removed]"
          },
          "metadata": {}
        }
      ]
    }
  ]
}